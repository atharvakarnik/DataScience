{
  "nbformat": 4,
  "nbformat_minor": 0,
  "metadata": {
    "colab": {
      "name": "classification_ML.ipynb",
      "provenance": [],
      "authorship_tag": "ABX9TyPMEt30JSKFSnm6eAMJSFcp",
      "include_colab_link": true
    },
    "kernelspec": {
      "name": "python3",
      "display_name": "Python 3"
    }
  },
  "cells": [
    {
      "cell_type": "markdown",
      "metadata": {
        "id": "view-in-github",
        "colab_type": "text"
      },
      "source": [
        "<a href=\"https://colab.research.google.com/github/atharvakarnik/DataScience/blob/master/classification_ML.ipynb\" target=\"_parent\"><img src=\"https://colab.research.google.com/assets/colab-badge.svg\" alt=\"Open In Colab\"/></a>"
      ]
    },
    {
      "cell_type": "code",
      "metadata": {
        "id": "hQqVAKCMAgWv"
      },
      "source": [
        "import matplotlib.pyplot as plt\n",
        "import numpy as np\n",
        "import pandas as pd\n",
        "import seaborn as sns\n",
        "\n",
        "from sklearn import datasets\n",
        "from sklearn import manifold\n",
        "\n",
        "%matplotlib inline"
      ],
      "execution_count": 1,
      "outputs": []
    },
    {
      "cell_type": "code",
      "metadata": {
        "id": "WsM-pYwzBCUH"
      },
      "source": [
        "#Downloading the dataset\n",
        "\n",
        "data = datasets.fetch_openml('mnist_784', version=1, return_X_y=True)\n",
        "pixel_val, targets = data       #pixel_val is 70000*784 array of 70000 images of 28*28 sized data\n",
        "targets = targets.astype(int)   #Existing dtype of targest is 'string'"
      ],
      "execution_count": 2,
      "outputs": []
    },
    {
      "cell_type": "code",
      "metadata": {
        "id": "SS_qCL_0Bd8r",
        "outputId": "5797434a-fbcb-4051-f1f6-d45ccde64ecb",
        "colab": {
          "base_uri": "https://localhost:8080/",
          "height": 282
        }
      },
      "source": [
        "import random as rnd\n",
        "\n",
        "rnd_img = pixel_val[rnd.randint(1,70000), :].reshape(28, 28)\n",
        "plt.imshow(rnd_img, cmap='gray')"
      ],
      "execution_count": 6,
      "outputs": [
        {
          "output_type": "execute_result",
          "data": {
            "text/plain": [
              "<matplotlib.image.AxesImage at 0x7f35a9be62b0>"
            ]
          },
          "metadata": {
            "tags": []
          },
          "execution_count": 6
        },
        {
          "output_type": "display_data",
          "data": {
            "image/png": "[encoded data removed]",
            "text/plain": [
              "<Figure size 432x288 with 1 Axes>"
            ]
          },
          "metadata": {
            "tags": [],
            "needs_background": "light"
          }
        }
      ]
    },
    {
      "cell_type": "code",
      "metadata": {
        "id": "mMkfDqMoCrJ9"
      },
      "source": [
        "#Applyin ML Algorithm: t-SNE (t-Distributed Stochastic Neighbour Embedding)\n",
        "\n",
        "tsne = manifold.TSNE(n_components=2, random_state=42)\n",
        "trans_data = tsne.fit_transform(pixel_val[:3000, :])"
      ],
      "execution_count": 7,
      "outputs": []
    },
    {
      "cell_type": "code",
      "metadata": {
        "id": "fyOSwS3BDprm"
      },
      "source": [
        ""
      ],
      "execution_count": null,
      "outputs": []
    }
  ]
}