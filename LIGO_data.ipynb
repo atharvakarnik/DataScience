{
  "nbformat": 4,
  "nbformat_minor": 0,
  "metadata": {
    "colab": {
      "name": "LIGO_data.ipynb",
      "provenance": [],
      "authorship_tag": "ABX9TyMrYhC0oW76QkpYoQhYpte1",
      "include_colab_link": true
    },
    "kernelspec": {
      "name": "python3",
      "display_name": "Python 3"
    }
  },
  "cells": [
    {
      "cell_type": "markdown",
      "metadata": {
        "id": "view-in-github",
        "colab_type": "text"
      },
      "source": [
        "<a href=\"https://colab.research.google.com/github/atharvakarnik/DataScience/blob/master/LIGO_data.ipynb\" target=\"_parent\"><img src=\"https://colab.research.google.com/assets/colab-badge.svg\" alt=\"Open In Colab\"/></a>"
      ]
    },
    {
      "cell_type": "code",
      "metadata": {
        "id": "oGNQOIn37bCg",
        "colab_type": "code",
        "colab": {
          "base_uri": "https://localhost:8080/",
          "height": 34
        },
        "outputId": "e1eba28b-f1fd-40aa-eb6f-c944adbb2e4c"
      },
      "source": [
        "import numpy as np\n",
        "import pandas as pd\n",
        "import os\n",
        "import h5py\n",
        "\n",
        "print('Done importing all libraries!')"
      ],
      "execution_count": 1,
      "outputs": [
        {
          "output_type": "stream",
          "text": [
            "Done importing all libraries!\n"
          ],
          "name": "stdout"
        }
      ]
    },
    {
      "cell_type": "code",
      "metadata": {
        "id": "wChi5IGT7lsF",
        "colab_type": "code",
        "colab": {
          "base_uri": "https://localhost:8080/",
          "height": 125
        },
        "outputId": "3f5f5d58-f862-4a3e-965f-fc419a5dbb0a"
      },
      "source": [
        "from google.colab import drive\n",
        "drive.mount('/content/drive/')"
      ],
      "execution_count": 2,
      "outputs": [
        {
          "output_type": "stream",
          "text": [
            "Go to this URL in a browser: https://accounts.google.com/o/oauth2/auth?client_id=947318989803-6bn6qk8qdgf4n4g3pfee6491hc0brc4i.apps.googleusercontent.com&redirect_uri=urn%3aietf%3awg%3aoauth%3a2.0%3aoob&scope=email%20https%3a%2f%2fwww.googleapis.com%2fauth%2fdocs.test%20https%3a%2f%2fwww.googleapis.com%2fauth%2fdrive%20https%3a%2f%2fwww.googleapis.com%2fauth%2fdrive.photos.readonly%20https%3a%2f%2fwww.googleapis.com%2fauth%2fpeopleapi.readonly&response_type=code\n",
            "\n",
            "Enter your authorization code:\n",
            "··········\n",
            "Mounted at /content/drive/\n"
          ],
          "name": "stdout"
        }
      ]
    },
    {
      "cell_type": "code",
      "metadata": {
        "id": "WhFMIcj1-cer",
        "colab_type": "code",
        "colab": {
          "base_uri": "https://localhost:8080/",
          "height": 266
        },
        "outputId": "c01ad71f-baa3-4bf1-f19a-190e427ad905"
      },
      "source": [
        "#fname = 'GW190814_posterior_samples.h5'\n",
        "hfile = h5py.File('/content/drive/My Drive/ProjectFiles/GW190814_posterior_samples.h5')\n",
        "list(hfile.keys())"
      ],
      "execution_count": 3,
      "outputs": [
        {
          "output_type": "stream",
          "text": [
            "/usr/local/lib/python3.6/dist-packages/ipykernel_launcher.py:2: H5pyDeprecationWarning: The default file mode will change to 'r' (read-only) in h5py 3.0. To suppress this warning, pass the mode you need to h5py.File(), or set the global default h5.get_config().default_file_mode, or set the environment variable H5PY_DEFAULT_READONLY=1. Available modes are: 'r', 'r+', 'w', 'w-'/'x', 'a'. See the docs for details.\n",
            "  \n"
          ],
          "name": "stderr"
        },
        {
          "output_type": "execute_result",
          "data": {
            "text/plain": [
              "['C01:IMRPhenomD',\n",
              " 'C01:IMRPhenomHM',\n",
              " 'C01:IMRPhenomNSBH',\n",
              " 'C01:IMRPhenomPv3HM',\n",
              " 'C01:SEOBNRv4HM_ROM',\n",
              " 'C01:SEOBNRv4PHM',\n",
              " 'C01:SEOBNRv4_ROM',\n",
              " 'C01:SEOBNRv4_ROM_NRTidalv2_NSBH',\n",
              " 'combined',\n",
              " 'history',\n",
              " 'version']"
            ]
          },
          "metadata": {
            "tags": []
          },
          "execution_count": 3
        }
      ]
    },
    {
      "cell_type": "code",
      "metadata": {
        "id": "iU1kjIf7E9VF",
        "colab_type": "code",
        "colab": {}
      },
      "source": [
        "imrpd = hfile['C01:SEOBNRv4_ROM_NRTidalv2_NSBH']\n",
        "imprdSq = np.squeeze(imrpd)"
      ],
      "execution_count": 4,
      "outputs": []
    },
    {
      "cell_type": "code",
      "metadata": {
        "id": "CE5ItRWNF14i",
        "colab_type": "code",
        "colab": {
          "base_uri": "https://localhost:8080/",
          "height": 34
        },
        "outputId": "351b24b4-97c3-41c0-e826-cdd830deaca6"
      },
      "source": [
        "print(hfile['version'])"
      ],
      "execution_count": 5,
      "outputs": [
        {
          "output_type": "stream",
          "text": [
            "<HDF5 group \"/version\" (3 members)>\n"
          ],
          "name": "stdout"
        }
      ]
    },
    {
      "cell_type": "code",
      "metadata": {
        "id": "8ExswkRjIHEB",
        "colab_type": "code",
        "colab": {
          "base_uri": "https://localhost:8080/",
          "height": 90
        },
        "outputId": "08b10729-5ae4-4575-ba31-e53ff218b685"
      },
      "source": [
        "hdfFile = h5py.File('/content/drive/My Drive/ProjectFiles/L-L1_GWOSC_4KHZ_R1-1249850209-4096.hdf5')\n",
        "list(hdfFile.keys())"
      ],
      "execution_count": 6,
      "outputs": [
        {
          "output_type": "stream",
          "text": [
            "/usr/local/lib/python3.6/dist-packages/ipykernel_launcher.py:1: H5pyDeprecationWarning: The default file mode will change to 'r' (read-only) in h5py 3.0. To suppress this warning, pass the mode you need to h5py.File(), or set the global default h5.get_config().default_file_mode, or set the environment variable H5PY_DEFAULT_READONLY=1. Available modes are: 'r', 'r+', 'w', 'w-'/'x', 'a'. See the docs for details.\n",
            "  \"\"\"Entry point for launching an IPython kernel.\n"
          ],
          "name": "stderr"
        },
        {
          "output_type": "execute_result",
          "data": {
            "text/plain": [
              "['meta', 'quality', 'strain']"
            ]
          },
          "metadata": {
            "tags": []
          },
          "execution_count": 6
        }
      ]
    },
    {
      "cell_type": "code",
      "metadata": {
        "id": "P2mcNaOKL1Wv",
        "colab_type": "code",
        "colab": {
          "base_uri": "https://localhost:8080/",
          "height": 70
        },
        "outputId": "0b9692c8-8454-430e-92f0-6490255d02c5"
      },
      "source": [
        "#Another method to list down the keys\n",
        "for key in hdfFile.keys():\n",
        "  print(key)"
      ],
      "execution_count": 7,
      "outputs": [
        {
          "output_type": "stream",
          "text": [
            "meta\n",
            "quality\n",
            "strain\n"
          ],
          "name": "stdout"
        }
      ]
    },
    {
      "cell_type": "code",
      "metadata": {
        "id": "75MbRRj1MZ4X",
        "colab_type": "code",
        "colab": {
          "base_uri": "https://localhost:8080/",
          "height": 52
        },
        "outputId": "31dd4dc9-979d-46cc-99fb-265bfb5463d8"
      },
      "source": [
        "strain = hdfFile['strain']['Strain'].value\n",
        "ts = hdfFile['strain']['Strain'].attrs['Xspacing']"
      ],
      "execution_count": 9,
      "outputs": [
        {
          "output_type": "stream",
          "text": [
            "/usr/local/lib/python3.6/dist-packages/ipykernel_launcher.py:1: H5pyDeprecationWarning: dataset.value has been deprecated. Use dataset[()] instead.\n",
            "  \"\"\"Entry point for launching an IPython kernel.\n"
          ],
          "name": "stderr"
        }
      ]
    },
    {
      "cell_type": "code",
      "metadata": {
        "id": "uBhPngLjztEm",
        "colab_type": "code",
        "colab": {
          "base_uri": "https://localhost:8080/",
          "height": 193
        },
        "outputId": "59c645ee-a32f-4db8-d494-cb447e20306b"
      },
      "source": [
        "metaKeys = hdfFile['meta'].keys()\n",
        "meta = hdfFile['meta']\n",
        "for key in metaKeys:\n",
        "    print(key, meta[key].value)"
      ],
      "execution_count": 11,
      "outputs": [
        {
          "output_type": "stream",
          "text": [
            "Description Strain data time series from LIGO\n",
            "DescriptionURL http://www.gw-openscience.org/\n",
            "Detector L1\n",
            "Duration 4096\n",
            "GPSstart 1249850209\n",
            "Observatory L\n",
            "Type StrainTimeSeries\n",
            "UTCstart 2019-08-14T20:36:31\n"
          ],
          "name": "stdout"
        },
        {
          "output_type": "stream",
          "text": [
            "/usr/local/lib/python3.6/dist-packages/ipykernel_launcher.py:4: H5pyDeprecationWarning: dataset.value has been deprecated. Use dataset[()] instead.\n",
            "  after removing the cwd from sys.path.\n"
          ],
          "name": "stderr"
        }
      ]
    },
    {
      "cell_type": "code",
      "metadata": {
        "id": "sd-he98Lz1wl",
        "colab_type": "code",
        "colab": {}
      },
      "source": [
        ""
      ],
      "execution_count": null,
      "outputs": []
    }
  ]
}