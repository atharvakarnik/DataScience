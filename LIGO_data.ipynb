{
  "nbformat": 4,
  "nbformat_minor": 0,
  "metadata": {
    "colab": {
      "name": "LIGO_data.ipynb",
      "provenance": [],
      "authorship_tag": "ABX9TyM5K9r1DrOSwrx6SsxihN+0",
      "include_colab_link": true
    },
    "kernelspec": {
      "name": "python3",
      "display_name": "Python 3"
    }
  },
  "cells": [
    {
      "cell_type": "markdown",
      "metadata": {
        "id": "view-in-github",
        "colab_type": "text"
      },
      "source": [
        "<a href=\"https://colab.research.google.com/github/atharvakarnik/DataScience/blob/master/LIGO_data.ipynb\" target=\"_parent\"><img src=\"https://colab.research.google.com/assets/colab-badge.svg\" alt=\"Open In Colab\"/></a>"
      ]
    },
    {
      "cell_type": "code",
      "metadata": {
        "id": "oGNQOIn37bCg",
        "colab_type": "code",
        "colab": {
          "base_uri": "https://localhost:8080/",
          "height": 34
        },
        "outputId": "fe66e0f4-3e3d-4b2c-8e22-be76c8944200"
      },
      "source": [
        "import numpy as np\n",
        "import pandas as pd\n",
        "import os\n",
        "import h5py\n",
        "\n",
        "print('Done importing all libraries!')"
      ],
      "execution_count": null,
      "outputs": [
        {
          "output_type": "stream",
          "text": [
            "Done importing all libraries!\n"
          ],
          "name": "stdout"
        }
      ]
    },
    {
      "cell_type": "code",
      "metadata": {
        "id": "wChi5IGT7lsF",
        "colab_type": "code",
        "colab": {
          "base_uri": "https://localhost:8080/",
          "height": 125
        },
        "outputId": "0ba06fef-625c-4c22-9e12-396e0f1caf86"
      },
      "source": [
        "from google.colab import drive\n",
        "drive.mount('/content/drive/')"
      ],
      "execution_count": null,
      "outputs": [
        {
          "output_type": "stream",
          "text": [
            "Go to this URL in a browser: https://accounts.google.com/o/oauth2/auth?client_id=947318989803-6bn6qk8qdgf4n4g3pfee6491hc0brc4i.apps.googleusercontent.com&redirect_uri=urn%3aietf%3awg%3aoauth%3a2.0%3aoob&scope=email%20https%3a%2f%2fwww.googleapis.com%2fauth%2fdocs.test%20https%3a%2f%2fwww.googleapis.com%2fauth%2fdrive%20https%3a%2f%2fwww.googleapis.com%2fauth%2fdrive.photos.readonly%20https%3a%2f%2fwww.googleapis.com%2fauth%2fpeopleapi.readonly&response_type=code\n",
            "\n",
            "Enter your authorization code:\n",
            "··········\n",
            "Mounted at /content/drive/\n"
          ],
          "name": "stdout"
        }
      ]
    },
    {
      "cell_type": "code",
      "metadata": {
        "id": "WhFMIcj1-cer",
        "colab_type": "code",
        "colab": {
          "base_uri": "https://localhost:8080/",
          "height": 266
        },
        "outputId": "4415b83e-f694-45cb-993c-933a1acdd447"
      },
      "source": [
        "#fname = 'GW190814_posterior_samples.h5'\n",
        "hfile = h5py.File('/content/drive/My Drive/ProjectFiles/GW190814_posterior_samples.h5')\n",
        "list(hfile.keys())"
      ],
      "execution_count": null,
      "outputs": [
        {
          "output_type": "stream",
          "text": [
            "/usr/local/lib/python3.6/dist-packages/ipykernel_launcher.py:2: H5pyDeprecationWarning: The default file mode will change to 'r' (read-only) in h5py 3.0. To suppress this warning, pass the mode you need to h5py.File(), or set the global default h5.get_config().default_file_mode, or set the environment variable H5PY_DEFAULT_READONLY=1. Available modes are: 'r', 'r+', 'w', 'w-'/'x', 'a'. See the docs for details.\n",
            "  \n"
          ],
          "name": "stderr"
        },
        {
          "output_type": "execute_result",
          "data": {
            "text/plain": [
              "['C01:IMRPhenomD',\n",
              " 'C01:IMRPhenomHM',\n",
              " 'C01:IMRPhenomNSBH',\n",
              " 'C01:IMRPhenomPv3HM',\n",
              " 'C01:SEOBNRv4HM_ROM',\n",
              " 'C01:SEOBNRv4PHM',\n",
              " 'C01:SEOBNRv4_ROM',\n",
              " 'C01:SEOBNRv4_ROM_NRTidalv2_NSBH',\n",
              " 'combined',\n",
              " 'history',\n",
              " 'version']"
            ]
          },
          "metadata": {
            "tags": []
          },
          "execution_count": 3
        }
      ]
    },
    {
      "cell_type": "code",
      "metadata": {
        "id": "iU1kjIf7E9VF",
        "colab_type": "code",
        "colab": {}
      },
      "source": [
        "imrpd = hfile['C01:SEOBNRv4_ROM_NRTidalv2_NSBH']\n",
        "imprdSq = np.squeeze(imrpd)"
      ],
      "execution_count": null,
      "outputs": []
    },
    {
      "cell_type": "code",
      "metadata": {
        "id": "CE5ItRWNF14i",
        "colab_type": "code",
        "colab": {
          "base_uri": "https://localhost:8080/",
          "height": 34
        },
        "outputId": "ee2b3e17-1692-4eee-abc8-aa8b27749e80"
      },
      "source": [
        "print(hfile['version'])"
      ],
      "execution_count": null,
      "outputs": [
        {
          "output_type": "stream",
          "text": [
            "<HDF5 group \"/version\" (3 members)>\n"
          ],
          "name": "stdout"
        }
      ]
    },
    {
      "cell_type": "code",
      "metadata": {
        "id": "8ExswkRjIHEB",
        "colab_type": "code",
        "colab": {
          "base_uri": "https://localhost:8080/",
          "height": 90
        },
        "outputId": "4ee47ffb-477c-48aa-d9c0-e437f8b12f2c"
      },
      "source": [
        "hdfFile = h5py.File('/content/drive/My Drive/ProjectFiles/L-L1_GWOSC_4KHZ_R1-1249850209-4096.hdf5')\n",
        "list(hdfFile.keys())"
      ],
      "execution_count": null,
      "outputs": [
        {
          "output_type": "stream",
          "text": [
            "/usr/local/lib/python3.6/dist-packages/ipykernel_launcher.py:1: H5pyDeprecationWarning: The default file mode will change to 'r' (read-only) in h5py 3.0. To suppress this warning, pass the mode you need to h5py.File(), or set the global default h5.get_config().default_file_mode, or set the environment variable H5PY_DEFAULT_READONLY=1. Available modes are: 'r', 'r+', 'w', 'w-'/'x', 'a'. See the docs for details.\n",
            "  \"\"\"Entry point for launching an IPython kernel.\n"
          ],
          "name": "stderr"
        },
        {
          "output_type": "execute_result",
          "data": {
            "text/plain": [
              "['meta', 'quality', 'strain']"
            ]
          },
          "metadata": {
            "tags": []
          },
          "execution_count": 6
        }
      ]
    },
    {
      "cell_type": "code",
      "metadata": {
        "id": "P2mcNaOKL1Wv",
        "colab_type": "code",
        "colab": {
          "base_uri": "https://localhost:8080/",
          "height": 70
        },
        "outputId": "91df2875-394c-4eb4-ac4f-8e28e3c903ff"
      },
      "source": [
        "#Another method to list down the keys\n",
        "for key in hdfFile.keys():\n",
        "  print(key)"
      ],
      "execution_count": null,
      "outputs": [
        {
          "output_type": "stream",
          "text": [
            "meta\n",
            "quality\n",
            "strain\n"
          ],
          "name": "stdout"
        }
      ]
    },
    {
      "cell_type": "code",
      "metadata": {
        "id": "75MbRRj1MZ4X",
        "colab_type": "code",
        "colab": {
          "base_uri": "https://localhost:8080/",
          "height": 52
        },
        "outputId": "d3fecbd1-d8f2-48cf-fbb4-ea5469b1f522"
      },
      "source": [
        "#Reading the strain data\n",
        "\n",
        "strain = hdfFile['strain']['Strain'].value\n",
        "ts = hdfFile['strain']['Strain'].attrs['Xspacing']"
      ],
      "execution_count": null,
      "outputs": [
        {
          "output_type": "stream",
          "text": [
            "/usr/local/lib/python3.6/dist-packages/ipykernel_launcher.py:1: H5pyDeprecationWarning: dataset.value has been deprecated. Use dataset[()] instead.\n",
            "  \"\"\"Entry point for launching an IPython kernel.\n"
          ],
          "name": "stderr"
        }
      ]
    },
    {
      "cell_type": "code",
      "metadata": {
        "id": "uBhPngLjztEm",
        "colab_type": "code",
        "colab": {
          "base_uri": "https://localhost:8080/",
          "height": 193
        },
        "outputId": "7681a5ae-80e8-4795-acce-2f790e965ff6"
      },
      "source": [
        "#Printing the meta data\n",
        "\n",
        "metaKeys = hdfFile['meta'].keys()\n",
        "meta = hdfFile['meta']\n",
        "for key in metaKeys:\n",
        "    print(key, meta[key].value)"
      ],
      "execution_count": null,
      "outputs": [
        {
          "output_type": "stream",
          "text": [
            "Description Strain data time series from LIGO\n",
            "DescriptionURL http://www.gw-openscience.org/\n",
            "Detector L1\n",
            "Duration 4096\n",
            "GPSstart 1249850209\n",
            "Observatory L\n",
            "Type StrainTimeSeries\n",
            "UTCstart 2019-08-14T20:36:31\n"
          ],
          "name": "stdout"
        },
        {
          "output_type": "stream",
          "text": [
            "/usr/local/lib/python3.6/dist-packages/ipykernel_launcher.py:4: H5pyDeprecationWarning: dataset.value has been deprecated. Use dataset[()] instead.\n",
            "  after removing the cwd from sys.path.\n"
          ],
          "name": "stderr"
        }
      ]
    },
    {
      "cell_type": "code",
      "metadata": {
        "id": "sd-he98Lz1wl",
        "colab_type": "code",
        "colab": {
          "base_uri": "https://localhost:8080/",
          "height": 87
        },
        "outputId": "e8fd66b3-8e67-4a42-e3b4-d36d23180b0d"
      },
      "source": [
        "#Creating a time vector\n",
        "\n",
        "gpsStart = meta['GPSstart'].value\n",
        "duration = meta['Duration'].value\n",
        "gpsEnd   = gpsStart + duration\n",
        "time = np.arange(gpsStart, gpsEnd, ts)"
      ],
      "execution_count": null,
      "outputs": [
        {
          "output_type": "stream",
          "text": [
            "/usr/local/lib/python3.6/dist-packages/ipykernel_launcher.py:3: H5pyDeprecationWarning: dataset.value has been deprecated. Use dataset[()] instead.\n",
            "  This is separate from the ipykernel package so we can avoid doing imports until\n",
            "/usr/local/lib/python3.6/dist-packages/ipykernel_launcher.py:4: H5pyDeprecationWarning: dataset.value has been deprecated. Use dataset[()] instead.\n",
            "  after removing the cwd from sys.path.\n"
          ],
          "name": "stderr"
        }
      ]
    },
    {
      "cell_type": "code",
      "metadata": {
        "id": "3m_GbUh7F0fz",
        "colab_type": "code",
        "colab": {
          "base_uri": "https://localhost:8080/",
          "height": 279
        },
        "outputId": "ee112d1d-e933-4bdb-af2e-9a4e67432991"
      },
      "source": [
        "#Plotting the time series\n",
        "\n",
        "import matplotlib.pyplot as plt\n",
        "samples = 10000\n",
        "plt.plot(time[0:samples], strain[0:samples])\n",
        "plt.xlabel('GPS Time (s)')\n",
        "plt.ylabel('H1 Strain')\n",
        "plt.show()"
      ],
      "execution_count": null,
      "outputs": [
        {
          "output_type": "display_data",
          "data": {
            "image/png": "[encoded data removed]",
            "text/plain": [
              "<Figure size 432x288 with 1 Axes>"
            ]
          },
          "metadata": {
            "tags": [],
            "needs_background": "light"
          }
        }
      ]
    },
    {
      "cell_type": "code",
      "metadata": {
        "id": "JCT6V1_2GL2s",
        "colab_type": "code",
        "colab": {}
      },
      "source": [
        ""
      ],
      "execution_count": null,
      "outputs": []
    }
  ]
}