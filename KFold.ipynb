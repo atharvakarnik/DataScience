{
  "nbformat": 4,
  "nbformat_minor": 0,
  "metadata": {
    "colab": {
      "name": "KFold.ipynb",
      "provenance": [],
      "authorship_tag": "ABX9TyMRZ80dYEUNgnXehsOKquZy",
      "include_colab_link": true
    },
    "kernelspec": {
      "name": "python3",
      "display_name": "Python 3"
    }
  },
  "cells": [
    {
      "cell_type": "markdown",
      "metadata": {
        "id": "view-in-github",
        "colab_type": "text"
      },
      "source": [
        "<a href=\"https://colab.research.google.com/github/atharvakarnik/DataScience/blob/master/KFold.ipynb\" target=\"_parent\"><img src=\"https://colab.research.google.com/assets/colab-badge.svg\" alt=\"Open In Colab\"/></a>"
      ]
    },
    {
      "cell_type": "code",
      "metadata": {
        "id": "m-viBGSjKYTj"
      },
      "source": [
        "import numpy as np\n",
        "import pandas as pd\n",
        "from sklearn import model_selection"
      ],
      "execution_count": 1,
      "outputs": []
    },
    {
      "cell_type": "code",
      "metadata": {
        "id": "kUimWKouMirf"
      },
      "source": [
        "if __name__ == '__main__':\n",
        "  url = 'https://raw.githubusercontent.com/jbrownlee/Datasets/master/housing.data'\n",
        "  df = pd.read_csv(url)\n",
        "  \n",
        "  df[\"kfold\"] = -1\n",
        "  df = df.sample(frac=1).reset_index(drop=True)\n",
        "\n",
        "  kf = model_selection.KFold(n_splits=5)\n",
        "  for fold, (trn_, val_) in enumerate(kf.split(X=df)):\n",
        "    df.loc[val_, 'kfold'] = fold\n",
        "  \n",
        "  df.to_csv(\"train_folds.csv\", index=False)"
      ],
      "execution_count": 7,
      "outputs": []
    },
    {
      "cell_type": "code",
      "metadata": {
        "id": "OWFotNTXmIrw",
        "outputId": "49621e57-20fa-44d6-e322-8d402ad62d91",
        "colab": {
          "base_uri": "https://localhost:8080/",
          "height": 263
        }
      },
      "source": [
        "df1 = pd.read_csv('train_folds.csv')\n",
        "df1.head"
      ],
      "execution_count": 8,
      "outputs": [
        {
          "output_type": "execute_result",
          "data": {
            "text/plain": [
              "<bound method NDFrame.head of      0.00632  18.00   2.310  0  0.5380  6.5750  65.20  4.0900   1  296.0  15.30 396.90   4.98  24.00  kfold\n",
              "0     9.92485   0.00  18.100  0  0.7400  6.2510  96...                                                    0\n",
              "1     0.38735   0.00  25.650  0  0.5810  5.6130  95...                                                    0\n",
              "2     1.12658   0.00  19.580  1  0.8710  5.0120  88...                                                    0\n",
              "3     0.13914   0.00   4.050  0  0.5100  5.5720  88...                                                    0\n",
              "4     0.04462  25.00   4.860  0  0.4260  6.6190  70...                                                    0\n",
              "..                                                 ...                                                  ...\n",
              "500   0.57834  20.00   3.970  0  0.5750  8.2970  67...                                                    4\n",
              "501   0.03427   0.00   5.190  0  0.5150  5.8690  46...                                                    4\n",
              "502  14.43830   0.00  18.100  0  0.5970  6.8520 100...                                                    4\n",
              "503   0.08187   0.00   2.890  0  0.4450  7.8200  36...                                                    4\n",
              "504   0.03466  35.00   6.060  0  0.4379  6.0310  23...                                                    4\n",
              "\n",
              "[505 rows x 2 columns]>"
            ]
          },
          "metadata": {
            "tags": []
          },
          "execution_count": 8
        }
      ]
    },
    {
      "cell_type": "code",
      "metadata": {
        "id": "gFmxn2KAmaWK",
        "outputId": "fdabac92-5aad-4aee-84e0-18bb1eb32603",
        "colab": {
          "base_uri": "https://localhost:8080/",
          "height": 263
        }
      },
      "source": [
        "df.head"
      ],
      "execution_count": 9,
      "outputs": [
        {
          "output_type": "execute_result",
          "data": {
            "text/plain": [
              "<bound method NDFrame.head of      0.00632  18.00   2.310  0  0.5380  6.5750  65.20  4.0900   1  296.0  15.30 396.90   4.98  24.00  kfold\n",
              "0     9.92485   0.00  18.100  0  0.7400  6.2510  96...                                                    0\n",
              "1     0.38735   0.00  25.650  0  0.5810  5.6130  95...                                                    0\n",
              "2     1.12658   0.00  19.580  1  0.8710  5.0120  88...                                                    0\n",
              "3     0.13914   0.00   4.050  0  0.5100  5.5720  88...                                                    0\n",
              "4     0.04462  25.00   4.860  0  0.4260  6.6190  70...                                                    0\n",
              "..                                                 ...                                                  ...\n",
              "500   0.57834  20.00   3.970  0  0.5750  8.2970  67...                                                    4\n",
              "501   0.03427   0.00   5.190  0  0.5150  5.8690  46...                                                    4\n",
              "502  14.43830   0.00  18.100  0  0.5970  6.8520 100...                                                    4\n",
              "503   0.08187   0.00   2.890  0  0.4450  7.8200  36...                                                    4\n",
              "504   0.03466  35.00   6.060  0  0.4379  6.0310  23...                                                    4\n",
              "\n",
              "[505 rows x 2 columns]>"
            ]
          },
          "metadata": {
            "tags": []
          },
          "execution_count": 9
        }
      ]
    },
    {
      "cell_type": "code",
      "metadata": {
        "id": "3ctbXjN5aBnF",
        "outputId": "0be7099f-d8c2-4306-8ad1-a0dd68280a3e",
        "colab": {
          "base_uri": "https://localhost:8080/",
          "height": 263
        }
      },
      "source": [
        "data = pd.read_csv(\"https://media.geeksforgeeks.org/wp-content/uploads/nba.csv\") \n",
        "data.head"
      ],
      "execution_count": 10,
      "outputs": [
        {
          "output_type": "execute_result",
          "data": {
            "text/plain": [
              "<bound method NDFrame.head of               Name            Team  ...            College     Salary\n",
              "0    Avery Bradley  Boston Celtics  ...              Texas  7730337.0\n",
              "1      Jae Crowder  Boston Celtics  ...          Marquette  6796117.0\n",
              "2     John Holland  Boston Celtics  ...  Boston University        NaN\n",
              "3      R.J. Hunter  Boston Celtics  ...      Georgia State  1148640.0\n",
              "4    Jonas Jerebko  Boston Celtics  ...                NaN  5000000.0\n",
              "..             ...             ...  ...                ...        ...\n",
              "453   Shelvin Mack       Utah Jazz  ...             Butler  2433333.0\n",
              "454      Raul Neto       Utah Jazz  ...                NaN   900000.0\n",
              "455   Tibor Pleiss       Utah Jazz  ...                NaN  2900000.0\n",
              "456    Jeff Withey       Utah Jazz  ...             Kansas   947276.0\n",
              "457            NaN             NaN  ...                NaN        NaN\n",
              "\n",
              "[458 rows x 9 columns]>"
            ]
          },
          "metadata": {
            "tags": []
          },
          "execution_count": 10
        }
      ]
    },
    {
      "cell_type": "code",
      "metadata": {
        "id": "i4yxtHDWaj7_",
        "outputId": "af3e42fe-d062-4cc9-e9fb-eaaf1c689054",
        "colab": {
          "base_uri": "https://localhost:8080/",
          "height": 282
        }
      },
      "source": [
        "import matplotlib.pyplot as plt\n",
        "plt.scatter(data['Team'].notna(), data['Salary'].notna())"
      ],
      "execution_count": 17,
      "outputs": [
        {
          "output_type": "execute_result",
          "data": {
            "text/plain": [
              "<matplotlib.collections.PathCollection at 0x7f545c52d9b0>"
            ]
          },
          "metadata": {
            "tags": []
          },
          "execution_count": 17
        },
        {
          "output_type": "display_data",
          "data": {
            "image/png": "[encoded data removed]",
            "text/plain": [
              "<Figure size 432x288 with 1 Axes>"
            ]
          },
          "metadata": {
            "tags": [],
            "needs_background": "light"
          }
        }
      ]
    },
    {
      "cell_type": "code",
      "metadata": {
        "id": "RAsBB-eWbA_B"
      },
      "source": [
        ""
      ],
      "execution_count": null,
      "outputs": []
    }
  ]
}