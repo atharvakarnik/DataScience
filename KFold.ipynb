{
  "nbformat": 4,
  "nbformat_minor": 0,
  "metadata": {
    "colab": {
      "name": "KFold.ipynb",
      "provenance": [],
      "authorship_tag": "ABX9TyM8j4CNutXNcKYzYf7CmgJB",
      "include_colab_link": true
    },
    "kernelspec": {
      "name": "python3",
      "display_name": "Python 3"
    }
  },
  "cells": [
    {
      "cell_type": "markdown",
      "metadata": {
        "id": "view-in-github",
        "colab_type": "text"
      },
      "source": [
        "<a href=\"https://colab.research.google.com/github/atharvakarnik/DataScience/blob/master/KFold.ipynb\" target=\"_parent\"><img src=\"https://colab.research.google.com/assets/colab-badge.svg\" alt=\"Open In Colab\"/></a>"
      ]
    },
    {
      "cell_type": "code",
      "metadata": {
        "id": "m-viBGSjKYTj"
      },
      "source": [
        "import numpy as np\n",
        "import pandas as pd\n",
        "from sklearn import model_selection"
      ],
      "execution_count": 1,
      "outputs": []
    },
    {
      "cell_type": "code",
      "metadata": {
        "id": "kUimWKouMirf"
      },
      "source": [
        "if __name__ == '__main__':\n",
        "  url = 'https://raw.githubusercontent.com/jbrownlee/Datasets/master/housing.data'\n",
        "  df = pd.read_csv(url)\n",
        "  \n",
        "  df[\"kfold\"] = -1\n",
        "  df = df.sample(frac=1).reset_index(drop=True)\n",
        "\n",
        "  kf = model_selection.KFold(n_splits=5)\n",
        "  for fold, (trn_, val_) in enumerate(kf.split(X=df)):\n",
        "    df.loc[val_, 'kfold'] = fold\n",
        "  \n",
        "  df.to_csv(\"train_folds.csv\", index=False)"
      ],
      "execution_count": 2,
      "outputs": []
    },
    {
      "cell_type": "code",
      "metadata": {
        "id": "OWFotNTXmIrw",
        "outputId": "24b7c3eb-842c-4ea9-e7f4-085d8ff75b77",
        "colab": {
          "base_uri": "https://localhost:8080/",
          "height": 263
        }
      },
      "source": [
        "df1 = pd.read_csv('train_folds.csv')\n",
        "df1.head"
      ],
      "execution_count": 3,
      "outputs": [
        {
          "output_type": "execute_result",
          "data": {
            "text/plain": [
              "<bound method NDFrame.head of      0.00632  18.00   2.310  0  0.5380  6.5750  65.20  4.0900   1  296.0  15.30 396.90   4.98  24.00  kfold\n",
              "0     3.69311   0.00  18.100  0  0.7130  6.3760  88...                                                    0\n",
              "1     0.04337  21.00   5.640  0  0.4390  6.1150  63...                                                    0\n",
              "2    15.17720   0.00  18.100  0  0.7400  6.1520 100...                                                    0\n",
              "3     0.22927   0.00   6.910  0  0.4480  6.0300  85...                                                    0\n",
              "4     3.67822   0.00  18.100  0  0.7700  5.3620  96...                                                    0\n",
              "..                                                 ...                                                  ...\n",
              "500   4.66883   0.00  18.100  0  0.7130  5.9760  87...                                                    4\n",
              "501   0.03150  95.00   1.470  0  0.4030  6.9750  15...                                                    4\n",
              "502  14.05070   0.00  18.100  0  0.5970  6.6570 100...                                                    4\n",
              "503   0.06899   0.00  25.650  0  0.5810  5.8700  69...                                                    4\n",
              "504   0.05497   0.00   5.190  0  0.5150  5.9850  45...                                                    4\n",
              "\n",
              "[505 rows x 2 columns]>"
            ]
          },
          "metadata": {
            "tags": []
          },
          "execution_count": 3
        }
      ]
    },
    {
      "cell_type": "code",
      "metadata": {
        "id": "gFmxn2KAmaWK"
      },
      "source": [
        ""
      ],
      "execution_count": null,
      "outputs": []
    }
  ]
}