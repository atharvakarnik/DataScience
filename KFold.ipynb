{
  "nbformat": 4,
  "nbformat_minor": 0,
  "metadata": {
    "colab": {
      "name": "KFold.ipynb",
      "provenance": [],
      "authorship_tag": "ABX9TyMsAj1X9ol7TEXWyFvnluD0",
      "include_colab_link": true
    },
    "kernelspec": {
      "name": "python3",
      "display_name": "Python 3"
    }
  },
  "cells": [
    {
      "cell_type": "markdown",
      "metadata": {
        "id": "view-in-github",
        "colab_type": "text"
      },
      "source": [
        "<a href=\"https://colab.research.google.com/github/atharvakarnik/DataScience/blob/master/KFold.ipynb\" target=\"_parent\"><img src=\"https://colab.research.google.com/assets/colab-badge.svg\" alt=\"Open In Colab\"/></a>"
      ]
    },
    {
      "cell_type": "code",
      "metadata": {
        "id": "m-viBGSjKYTj"
      },
      "source": [
        "import numpy as np\n",
        "import pandas as pd\n",
        "from sklearn import model_selection\n",
        "import seaborn as sns"
      ],
      "execution_count": 6,
      "outputs": []
    },
    {
      "cell_type": "code",
      "metadata": {
        "id": "kUimWKouMirf"
      },
      "source": [
        "if __name__ == '__main__':\n",
        "  url = 'https://raw.githubusercontent.com/jbrownlee/Datasets/master/housing.data'\n",
        "  df = pd.read_csv(url)\n",
        "  \n",
        "  df[\"kfold\"] = -1\n",
        "  df = df.sample(frac=1).reset_index(drop=True)\n",
        "\n",
        "  kf = model_selection.KFold(n_splits=5)\n",
        "  for fold, (trn_, val_) in enumerate(kf.split(X=df)):\n",
        "    df.loc[val_, 'kfold'] = fold\n",
        "  \n",
        "  df.to_csv(\"train_folds.csv\", index=False)"
      ],
      "execution_count": 3,
      "outputs": []
    },
    {
      "cell_type": "code",
      "metadata": {
        "id": "OWFotNTXmIrw",
        "outputId": "ceeaabd4-3032-4e08-97ba-e6f66ba24f5f",
        "colab": {
          "base_uri": "https://localhost:8080/",
          "height": 263
        }
      },
      "source": [
        "df1 = pd.read_csv('train_folds.csv')\n",
        "df1.head"
      ],
      "execution_count": 4,
      "outputs": [
        {
          "output_type": "execute_result",
          "data": {
            "text/plain": [
              "<bound method NDFrame.head of      0.00632  18.00   2.310  0  0.5380  6.5750  65.20  4.0900   1  296.0  15.30 396.90   4.98  24.00  kfold\n",
              "0     9.39063   0.00  18.100  0  0.7400  5.6270  93...                                                    0\n",
              "1     0.85204   0.00   8.140  0  0.5380  5.9650  89...                                                    0\n",
              "2     0.12650  25.00   5.130  0  0.4530  6.7620  43...                                                    0\n",
              "3     0.08829  12.50   7.870  0  0.5240  6.0120  66...                                                    0\n",
              "4    22.59710   0.00  18.100  0  0.7000  5.0000  89...                                                    0\n",
              "..                                                 ...                                                  ...\n",
              "500   5.73116   0.00  18.100  0  0.5320  7.0610  77...                                                    4\n",
              "501   2.15505   0.00  19.580  0  0.8710  5.6280 100...                                                    4\n",
              "502  45.74610   0.00  18.100  0  0.6930  4.5190 100...                                                    4\n",
              "503   0.23912   0.00   9.690  0  0.5850  6.0190  65...                                                    4\n",
              "504   0.06724   0.00   3.240  0  0.4600  6.3330  17...                                                    4\n",
              "\n",
              "[505 rows x 2 columns]>"
            ]
          },
          "metadata": {
            "tags": []
          },
          "execution_count": 4
        }
      ]
    },
    {
      "cell_type": "code",
      "metadata": {
        "id": "gFmxn2KAmaWK",
        "outputId": "83db0c55-8478-4fe5-b254-d8248d179473",
        "colab": {
          "base_uri": "https://localhost:8080/",
          "height": 306
        }
      },
      "source": [
        "#Taking wine dataset\n",
        "\n",
        "url = 'https://raw.githubusercontent.com/atharvakarnik/DataScience/master/Datasets/winequality-red.csv'     #Raw GitHub link must be provided\n",
        "df = pd.read_csv(url)\n",
        "#df.head\n",
        "\n",
        "b = sns.countplot(x='quality', data=df)\n",
        "b.set_xlabel(\"quality\", fontsize=20)\n",
        "b.set_ylabel(\"count\", fontsize=20)"
      ],
      "execution_count": 8,
      "outputs": [
        {
          "output_type": "execute_result",
          "data": {
            "text/plain": [
              "Text(0, 0.5, 'count')"
            ]
          },
          "metadata": {
            "tags": []
          },
          "execution_count": 8
        },
        {
          "output_type": "display_data",
          "data": {
            "image/png": "[encoded data removed]",
            "text/plain": [
              "<Figure size 432x288 with 1 Axes>"
            ]
          },
          "metadata": {
            "tags": [],
            "needs_background": "light"
          }
        }
      ]
    },
    {
      "cell_type": "code",
      "metadata": {
        "id": "5V0hMuTI2tal"
      },
      "source": [
        ""
      ],
      "execution_count": null,
      "outputs": []
    }
  ]
}